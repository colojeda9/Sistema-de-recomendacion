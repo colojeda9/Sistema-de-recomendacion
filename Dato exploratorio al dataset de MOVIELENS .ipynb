{
 "cells": [
  {
   "cell_type": "markdown",
   "id": "29d11104",
   "metadata": {},
   "source": [
    "# Sistema de recomendacion \n",
    "* Esta caso usamos el dataset de MovieLens \n",
    "* Cargamos el Dataset y luego hacemos un dato exploratorio\n",
    "* creamos un modelo predictivo segun la calificacion de cada usuario a cada que pelicula\n",
    "    * buscar los usuarios mas similares posibles para recomendar X pelicula segun sus gustos\n",
    "    \n",
    "    \n",
    "* **El modelo predictivo cuenta con un error solamente de un 7.72% en el entrenamiento y 7.52% en el test.**\n",
    "\n",
    "\n",
    "* Este es un sistema o predictor basado en recomendaciones por similaridades entre los usuarios(que contienen una valoracion similar o uniforme por parte de los usuarios) y a partir de eso hemos establecido un sistema de recomendaciones basandonos en ponderar todas y cada una de las distancias establecidas por los valores que dieron dichos usuarios a las peliculas."
   ]
  },
  {
   "cell_type": "code",
   "execution_count": 154,
   "id": "c72de8be",
   "metadata": {},
   "outputs": [],
   "source": [
    "import pandas as pd\n",
    "import numpy as np\n",
    "import sklearn\n",
    "import matplotlib.pyplot as plt"
   ]
  },
  {
   "cell_type": "code",
   "execution_count": 155,
   "id": "36345bce",
   "metadata": {},
   "outputs": [
    {
     "data": {
      "text/plain": [
       "pandas.core.frame.DataFrame"
      ]
     },
     "execution_count": 155,
     "metadata": {},
     "output_type": "execute_result"
    }
   ],
   "source": [
    "df = pd.read_csv(\"/Users/Acer/Desktop/Cursos-Udemy-Machine-Learning/python-ml-course-master/datasets/ml-100k/u.data\" , sep=\"\\t\", header=None)\n",
    "type(df)"
   ]
  },
  {
   "cell_type": "code",
   "execution_count": 156,
   "id": "3465bb45",
   "metadata": {},
   "outputs": [
    {
     "data": {
      "text/plain": [
       "(100000, 4)"
      ]
     },
     "execution_count": 156,
     "metadata": {},
     "output_type": "execute_result"
    }
   ],
   "source": [
    "df.shape"
   ]
  },
  {
   "cell_type": "code",
   "execution_count": 157,
   "id": "2f3a7dec",
   "metadata": {},
   "outputs": [
    {
     "data": {
      "text/html": [
       "<div>\n",
       "<style scoped>\n",
       "    .dataframe tbody tr th:only-of-type {\n",
       "        vertical-align: middle;\n",
       "    }\n",
       "\n",
       "    .dataframe tbody tr th {\n",
       "        vertical-align: top;\n",
       "    }\n",
       "\n",
       "    .dataframe thead th {\n",
       "        text-align: right;\n",
       "    }\n",
       "</style>\n",
       "<table border=\"1\" class=\"dataframe\">\n",
       "  <thead>\n",
       "    <tr style=\"text-align: right;\">\n",
       "      <th></th>\n",
       "      <th>UserID</th>\n",
       "      <th>ItemID</th>\n",
       "      <th>Raiting</th>\n",
       "      <th>TimeStamp</th>\n",
       "    </tr>\n",
       "  </thead>\n",
       "  <tbody>\n",
       "    <tr>\n",
       "      <th>0</th>\n",
       "      <td>196</td>\n",
       "      <td>242</td>\n",
       "      <td>3</td>\n",
       "      <td>881250949</td>\n",
       "    </tr>\n",
       "    <tr>\n",
       "      <th>1</th>\n",
       "      <td>186</td>\n",
       "      <td>302</td>\n",
       "      <td>3</td>\n",
       "      <td>891717742</td>\n",
       "    </tr>\n",
       "    <tr>\n",
       "      <th>2</th>\n",
       "      <td>22</td>\n",
       "      <td>377</td>\n",
       "      <td>1</td>\n",
       "      <td>878887116</td>\n",
       "    </tr>\n",
       "    <tr>\n",
       "      <th>3</th>\n",
       "      <td>244</td>\n",
       "      <td>51</td>\n",
       "      <td>2</td>\n",
       "      <td>880606923</td>\n",
       "    </tr>\n",
       "    <tr>\n",
       "      <th>4</th>\n",
       "      <td>166</td>\n",
       "      <td>346</td>\n",
       "      <td>1</td>\n",
       "      <td>886397596</td>\n",
       "    </tr>\n",
       "  </tbody>\n",
       "</table>\n",
       "</div>"
      ],
      "text/plain": [
       "   UserID  ItemID  Raiting   TimeStamp\n",
       "0     196     242        3   881250949\n",
       "1     186     302        3   891717742\n",
       "2      22     377        1   878887116\n",
       "3     244      51        2   880606923\n",
       "4     166     346        1   886397596"
      ]
     },
     "execution_count": 157,
     "metadata": {},
     "output_type": "execute_result"
    }
   ],
   "source": [
    "df.columns = [\"UserID\" , \"ItemID\" , \"Raiting\" , \" TimeStamp\" ]\n",
    "df.head()"
   ]
  },
  {
   "cell_type": "markdown",
   "id": "db297339",
   "metadata": {},
   "source": [
    "* Ahora haremos un analisis exploratorio de los datos, antes de iniciar nuestros datos de recomendacion\n",
    "\n",
    "----\n",
    "---\n",
    "\n",
    "\n",
    "## Analisis exploratorioa de los items"
   ]
  },
  {
   "cell_type": "code",
   "execution_count": 158,
   "id": "88aea2e5",
   "metadata": {},
   "outputs": [
    {
     "data": {
      "text/plain": [
       "(array([ 6110.,     0., 11370.,     0.,     0., 27145.,     0., 34174.,\n",
       "            0., 21201.]),\n",
       " array([1. , 1.4, 1.8, 2.2, 2.6, 3. , 3.4, 3.8, 4.2, 4.6, 5. ]),\n",
       " <BarContainer object of 10 artists>)"
      ]
     },
     "execution_count": 158,
     "metadata": {},
     "output_type": "execute_result"
    },
    {
     "data": {
      "image/png": "[encoded data removed]",
      "text/plain": [
       "<Figure size 640x480 with 1 Axes>"
      ]
     },
     "metadata": {},
     "output_type": "display_data"
    }
   ],
   "source": [
    "plt.hist(df[\"Raiting\"])"
   ]
  },
  {
   "cell_type": "code",
   "execution_count": 159,
   "id": "342c8f1f",
   "metadata": {},
   "outputs": [
    {
     "data": {
      "text/plain": [
       "(array([1.146e+03, 2.490e+02, 1.390e+02, 6.700e+01, 3.800e+01, 2.400e+01,\n",
       "        7.000e+00, 5.000e+00, 6.000e+00, 1.000e+00]),\n",
       " array([  1. ,  59.2, 117.4, 175.6, 233.8, 292. , 350.2, 408.4, 466.6,\n",
       "        524.8, 583. ]),\n",
       " <BarContainer object of 10 artists>)"
      ]
     },
     "execution_count": 159,
     "metadata": {},
     "output_type": "execute_result"
    },
    {
     "data": {
      "image/png": "[encoded data removed]",
      "text/plain": [
       "<Figure size 640x480 with 1 Axes>"
      ]
     },
     "metadata": {},
     "output_type": "display_data"
    }
   ],
   "source": [
    "#Hacemos otro groupby de cuantas personas vieron cada pelicula (de la 1 la 50 la vieron 452 y asi...)\n",
    "plt.hist(df.groupby([\"ItemID\"])[\"ItemID\"].count())"
   ]
  },
  {
   "cell_type": "markdown",
   "id": "1963ad8c",
   "metadata": {},
   "source": [
    "Como podemos ver el conjunto de peliculas de la 1 a la 50 tiene mas vistas que las demas (es decir las primeras 50 peliculas fueron vistas mas veces)\n",
    "\n",
    "* obviamente las peliculas mas vistas van a entrar mas facilmente en recomendaciones. Si una peli no fue muy vista o no es ni valorada por la poca gente que la vio es muy dificil que sea recomendada.\n",
    "\n",
    "\n",
    "* Estos nos va a llevar a pensar que a veces en lugar de basarnos 100% en lo que nos diga el algoritmo de recomendación. es que de vez en cuando tendríamos que incluir películas de éstas que son poco vistas para evitar caer en la monotonia de solamente las 50 pelis mas vistas\n",
    "\n",
    "\n",
    "* Por eso mismo las pelis menos vistas necesitan de vez en cuando ser recomendadas y por eso nuestro sistema tendrá que tenerlas en cuenta, en algún caso si queremos que éstas tengan las mismas opciones \"por así decir\" que los \"grandes pelis o Titanes\" de la industria del cine, en este caso.\n",
    "\n",
    "-----\n",
    "----\n",
    "\n",
    "## Representacion en froma matricial ( matriz de representacion)\n",
    "\n",
    "\n",
    "*  para ofrecer un sistema de recomendaciones necesitamos tener una matriz de valoraciones\n",
    "\n",
    "\n",
    "* Cada fila contenga por ejemplo un usuario y cada una de las columnas sea una película de modo que la combinación fila y columna me dé la valoración que un usuario le ha dado a una película. por ejemplo va a pasar que \"X\" usuario no vio tal peliculas y le pondremos un 0.\n",
    "\n",
    "**Filas = Usuarios , Columnas = N° de peliculas**"
   ]
  },
  {
   "cell_type": "code",
   "execution_count": 160,
   "id": "2f8105b7",
   "metadata": {},
   "outputs": [
    {
     "data": {
      "text/plain": [
       "943"
      ]
     },
     "execution_count": 160,
     "metadata": {},
     "output_type": "execute_result"
    }
   ],
   "source": [
    "         #Sabes solamente de los usuarios\n",
    "n_users = df.UserID.unique().shape[0]\n",
    "n_users"
   ]
  },
  {
   "cell_type": "code",
   "execution_count": 161,
   "id": "0d4569c3",
   "metadata": {},
   "outputs": [
    {
     "data": {
      "text/plain": [
       "1682"
      ]
     },
     "execution_count": 161,
     "metadata": {},
     "output_type": "execute_result"
    }
   ],
   "source": [
    "    #Numeros de peliculas\n",
    "n_items = df.ItemID.unique().shape[0]\n",
    "n_items"
   ]
  },
  {
   "cell_type": "code",
   "execution_count": 162,
   "id": "c8dfc810",
   "metadata": {},
   "outputs": [],
   "source": [
    "#Creamos la matriz de valoraciones, (en este caso matriz de CEROS)\n",
    "ratings = np.zeros((n_users , n_items)) #agregue 0 tanto en la fila de usuarios y en las columnas de pelis\n",
    "\n",
    "for row in df.itertuples():\n",
    "    ratings[row[1]-1 , row[2]-1] = row[3]"
   ]
  },
  {
   "cell_type": "code",
   "execution_count": 163,
   "id": "12e6c418",
   "metadata": {},
   "outputs": [
    {
     "data": {
      "text/plain": [
       "(943, 1682)"
      ]
     },
     "execution_count": 163,
     "metadata": {},
     "output_type": "execute_result"
    }
   ],
   "source": [
    "ratings.shape"
   ]
  },
  {
   "cell_type": "code",
   "execution_count": 164,
   "id": "0f196179",
   "metadata": {},
   "outputs": [
    {
     "data": {
      "text/plain": [
       "array([[5., 3., 4., ..., 0., 0., 0.],\n",
       "       [4., 0., 0., ..., 0., 0., 0.],\n",
       "       [0., 0., 0., ..., 0., 0., 0.],\n",
       "       ...,\n",
       "       [5., 0., 0., ..., 0., 0., 0.],\n",
       "       [0., 0., 0., ..., 0., 0., 0.],\n",
       "       [0., 5., 0., ..., 0., 0., 0.]])"
      ]
     },
     "execution_count": 164,
     "metadata": {},
     "output_type": "execute_result"
    }
   ],
   "source": [
    "ratings"
   ]
  },
  {
   "cell_type": "code",
   "execution_count": 165,
   "id": "7b871b6f",
   "metadata": {},
   "outputs": [
    {
     "name": "stdout",
     "output_type": "stream",
     "text": [
      "coeficiente de sparseidad:6.30%\n"
     ]
    }
   ],
   "source": [
    "#Ahora veremos que porcentaje de la matriz no contiene 0\n",
    "sparsity = float(len(ratings.nonzero()[0]))\n",
    "sparsity /=(ratings.shape[0]*ratings.shape[1]) #dividimo la SPARSITY / N° de filas * N° de columnas \n",
    "sparsity *=100\n",
    "print(\"coeficiente de sparseidad:{:4.2f}%\".format(sparsity))"
   ]
  },
  {
   "cell_type": "markdown",
   "id": "ff43ec48",
   "metadata": {},
   "source": [
    "Es decir que el 6.30% de esa matriz no esta vacia y contiene datos (los 0 son datos NaN).\n",
    "\n",
    "* Por eso mismo tenemos margen más que de sobras para ofrecer recomendaciones de pelis que los usuarios no hayan visto.\n",
    "\n",
    "---\n",
    "\n",
    "\n",
    "## Crear conjunto de entrenamiento y validacion\n",
    "\n",
    "* buscar usuarios que se parezcan entre si y ponderar sus decisiones, sus valoraciones, sus películas que les gustan para ofrecérselas al usuario con el que estamos testeando."
   ]
  },
  {
   "cell_type": "code",
   "execution_count": 166,
   "id": "b732bb29",
   "metadata": {},
   "outputs": [],
   "source": [
    "from sklearn.model_selection import cross_validate , train_test_split\n",
    "from sklearn import metrics"
   ]
  },
  {
   "cell_type": "code",
   "execution_count": 167,
   "id": "ef206d1a",
   "metadata": {},
   "outputs": [
    {
     "data": {
      "text/plain": [
       "(660, 1682)"
      ]
     },
     "execution_count": 167,
     "metadata": {},
     "output_type": "execute_result"
    }
   ],
   "source": [
    "ratings_train , ratings_test = train_test_split(ratings, test_size = 0.3 , random_state=42) \n",
    "ratings_train.shape"
   ]
  },
  {
   "cell_type": "code",
   "execution_count": 168,
   "id": "b9dd6ad3",
   "metadata": {},
   "outputs": [
    {
     "data": {
      "text/plain": [
       "(283, 1682)"
      ]
     },
     "execution_count": 168,
     "metadata": {},
     "output_type": "execute_result"
    }
   ],
   "source": [
    "ratings_test.shape"
   ]
  },
  {
   "cell_type": "markdown",
   "id": "9c06ab77",
   "metadata": {},
   "source": [
    "en ratings_test usaremos 283 usuarios para ofrecerles una recomendacion"
   ]
  },
  {
   "cell_type": "code",
   "execution_count": 169,
   "id": "2dfe8658",
   "metadata": {},
   "outputs": [],
   "source": [
    "sim_matrix_test = 1 - sklearn.metrics.pairwise.cosine_distances(ratings_test)\n",
    "\n",
    "sim_matrix_train = 1 - sklearn.metrics.pairwise.cosine_distances(ratings_train)"
   ]
  },
  {
   "cell_type": "code",
   "execution_count": 170,
   "id": "adf98de9",
   "metadata": {},
   "outputs": [
    {
     "data": {
      "text/plain": [
       "array([[1.        , 0.17448349, 0.18009754, ..., 0.13331459, 0.17695593,\n",
       "        0.21882481],\n",
       "       [0.17448349, 1.        , 0.07993097, ..., 0.07175808, 0.09552622,\n",
       "        0.05512655],\n",
       "       [0.18009754, 0.07993097, 1.        , ..., 0.0191736 , 0.02233385,\n",
       "        0.10310785],\n",
       "       ...,\n",
       "       [0.13331459, 0.07175808, 0.0191736 , ..., 1.        , 0.04853428,\n",
       "        0.05142508],\n",
       "       [0.17695593, 0.09552622, 0.02233385, ..., 0.04853428, 1.        ,\n",
       "        0.1198022 ],\n",
       "       [0.21882481, 0.05512655, 0.10310785, ..., 0.05142508, 0.1198022 ,\n",
       "        1.        ]])"
      ]
     },
     "execution_count": 170,
     "metadata": {},
     "output_type": "execute_result"
    }
   ],
   "source": [
    "sim_matrix_train"
   ]
  },
  {
   "cell_type": "markdown",
   "id": "c66621ce",
   "metadata": {},
   "source": [
    "Como podemos ver en diagonal tiene siempre resultado 1 por que obviamente es similar a si mismo un usuario, y ahi vemos el porcentaje por asi decirlo de cuanto hay de compatibilidad entre usuarios\n",
    "\n",
    "* como podemos ver el usuario 1 con el 2 esta a distancia 0.17 - el 1 con el 3 a 0.18 y asi sucesivamente\n",
    "\n",
    "\n",
    "* tambien podemos observar que la matriz es SIMETRICA es decir que el valor del usuario 1 al 2 es la misma que del 2 al 1. o del 1 al 3 y del 3 al 1. con eso tenemos el doble de informacion, pero no hay problema por que es un paso previo a poder hacer la predicción del usuario"
   ]
  },
  {
   "cell_type": "code",
   "execution_count": 171,
   "id": "b6202ad0",
   "metadata": {},
   "outputs": [],
   "source": [
    "users_predictions_test = sim_matrix_test.dot(ratings_test) / np.array([np.abs(sim_matrix_test).sum(axis=1)]).T\n",
    "\n",
    "users_predictions_train = sim_matrix_train.dot(ratings_train) / np.array([np.abs(sim_matrix_train).sum(axis=1)]).T"
   ]
  },
  {
   "cell_type": "code",
   "execution_count": 172,
   "id": "ce273933",
   "metadata": {},
   "outputs": [],
   "source": [
    "from sklearn.metrics import mean_squared_error\n",
    "\n",
    "def get_mse(preds, actuals):\n",
    "    if preds.shape[0] != actuals.shape[0]: #Si las predicciones en la 0 no coinciden con las actuales TRANSPONEMOS\n",
    "        actuals = actuals.T\n",
    "    preds = preds[actuals.nonzero()].flatten()\n",
    "    actuals = actuals[actuals.nonzero()].flatten()\n",
    "    return mean_squared_error(preds, actuals)"
   ]
  },
  {
   "cell_type": "code",
   "execution_count": 173,
   "id": "41400fb0",
   "metadata": {},
   "outputs": [
    {
     "data": {
      "text/plain": [
       "7.51355110112698"
      ]
     },
     "execution_count": 173,
     "metadata": {},
     "output_type": "execute_result"
    }
   ],
   "source": [
    "get_mse(users_predictions_test, ratings_test)"
   ]
  },
  {
   "cell_type": "code",
   "execution_count": 174,
   "id": "34da0e26",
   "metadata": {},
   "outputs": [
    {
     "data": {
      "text/plain": [
       "7.878218313143215"
      ]
     },
     "execution_count": 174,
     "metadata": {},
     "output_type": "execute_result"
    }
   ],
   "source": [
    "get_mse(users_predictions_train, ratings_train)"
   ]
  },
  {
   "cell_type": "markdown",
   "id": "85bccbc8",
   "metadata": {},
   "source": [
    "* Segun el error que tenemos es un algoritmo muy bueno con muy poco margen de error tanto como en el entrenamiento y en el testeo\n",
    "\n",
    "---\n",
    "\n",
    "\n",
    "# Filtro colaborativo basado en los KNN (los \"K\" vecinos)\n",
    "\n",
    "* Ahora vamos a refinar el algoritmo juntando esta idea de filtro colaborativo basado en usuarios con la idea de los KNN (los ka vecinos) - para que tome los mas parecidos"
   ]
  },
  {
   "cell_type": "code",
   "execution_count": 175,
   "id": "045592c3",
   "metadata": {},
   "outputs": [],
   "source": [
    "from sklearn.neighbors import NearestNeighbors"
   ]
  },
  {
   "cell_type": "code",
   "execution_count": 176,
   "id": "a9a9728a",
   "metadata": {},
   "outputs": [
    {
     "data": {
      "text/html": [
       "<style>#sk-container-id-4 {color: black;background-color: white;}#sk-container-id-4 pre{padding: 0;}#sk-container-id-4 div.sk-toggleable {background-color: white;}#sk-container-id-4 label.sk-toggleable__label {cursor: pointer;display: block;width: 100%;margin-bottom: 0;padding: 0.3em;box-sizing: border-box;text-align: center;}#sk-container-id-4 label.sk-toggleable__label-arrow:before {content: \"▸\";float: left;margin-right: 0.25em;color: #696969;}#sk-container-id-4 label.sk-toggleable__label-arrow:hover:before {color: black;}#sk-container-id-4 div.sk-estimator:hover label.sk-toggleable__label-arrow:before {color: black;}#sk-container-id-4 div.sk-toggleable__content {max-height: 0;max-width: 0;overflow: hidden;text-align: left;background-color: #f0f8ff;}#sk-container-id-4 div.sk-toggleable__content pre {margin: 0.2em;color: black;border-radius: 0.25em;background-color: #f0f8ff;}#sk-container-id-4 input.sk-toggleable__control:checked~div.sk-toggleable__content {max-height: 200px;max-width: 100%;overflow: auto;}#sk-container-id-4 input.sk-toggleable__control:checked~label.sk-toggleable__label-arrow:before {content: \"▾\";}#sk-container-id-4 div.sk-estimator input.sk-toggleable__control:checked~label.sk-toggleable__label {background-color: #d4ebff;}#sk-container-id-4 div.sk-label input.sk-toggleable__control:checked~label.sk-toggleable__label {background-color: #d4ebff;}#sk-container-id-4 input.sk-hidden--visually {border: 0;clip: rect(1px 1px 1px 1px);clip: rect(1px, 1px, 1px, 1px);height: 1px;margin: -1px;overflow: hidden;padding: 0;position: absolute;width: 1px;}#sk-container-id-4 div.sk-estimator {font-family: monospace;background-color: #f0f8ff;border: 1px dotted black;border-radius: 0.25em;box-sizing: border-box;margin-bottom: 0.5em;}#sk-container-id-4 div.sk-estimator:hover {background-color: #d4ebff;}#sk-container-id-4 div.sk-parallel-item::after {content: \"\";width: 100%;border-bottom: 1px solid gray;flex-grow: 1;}#sk-container-id-4 div.sk-label:hover label.sk-toggleable__label {background-color: #d4ebff;}#sk-container-id-4 div.sk-serial::before {content: \"\";position: absolute;border-left: 1px solid gray;box-sizing: border-box;top: 0;bottom: 0;left: 50%;z-index: 0;}#sk-container-id-4 div.sk-serial {display: flex;flex-direction: column;align-items: center;background-color: white;padding-right: 0.2em;padding-left: 0.2em;position: relative;}#sk-container-id-4 div.sk-item {position: relative;z-index: 1;}#sk-container-id-4 div.sk-parallel {display: flex;align-items: stretch;justify-content: center;background-color: white;position: relative;}#sk-container-id-4 div.sk-item::before, #sk-container-id-4 div.sk-parallel-item::before {content: \"\";position: absolute;border-left: 1px solid gray;box-sizing: border-box;top: 0;bottom: 0;left: 50%;z-index: -1;}#sk-container-id-4 div.sk-parallel-item {display: flex;flex-direction: column;z-index: 1;position: relative;background-color: white;}#sk-container-id-4 div.sk-parallel-item:first-child::after {align-self: flex-end;width: 50%;}#sk-container-id-4 div.sk-parallel-item:last-child::after {align-self: flex-start;width: 50%;}#sk-container-id-4 div.sk-parallel-item:only-child::after {width: 0;}#sk-container-id-4 div.sk-dashed-wrapped {border: 1px dashed gray;margin: 0 0.4em 0.5em 0.4em;box-sizing: border-box;padding-bottom: 0.4em;background-color: white;}#sk-container-id-4 div.sk-label label {font-family: monospace;font-weight: bold;display: inline-block;line-height: 1.2em;}#sk-container-id-4 div.sk-label-container {text-align: center;}#sk-container-id-4 div.sk-container {/* jupyter's `normalize.less` sets `[hidden] { display: none; }` but bootstrap.min.css set `[hidden] { display: none !important; }` so we also need the `!important` here to be able to override the default hidden behavior on the sphinx rendered scikit-learn.org. See: https://github.com/scikit-learn/scikit-learn/issues/21755 */display: inline-block !important;position: relative;}#sk-container-id-4 div.sk-text-repr-fallback {display: none;}</style><div id=\"sk-container-id-4\" class=\"sk-top-container\"><div class=\"sk-text-repr-fallback\"><pre>NearestNeighbors(metric=&#x27;cosine&#x27;, n_neighbors=3)</pre><b>In a Jupyter environment, please rerun this cell to show the HTML representation or trust the notebook. <br />On GitHub, the HTML representation is unable to render, please try loading this page with nbviewer.org.</b></div><div class=\"sk-container\" hidden><div class=\"sk-item\"><div class=\"sk-estimator sk-toggleable\"><input class=\"sk-toggleable__control sk-hidden--visually\" id=\"sk-estimator-id-4\" type=\"checkbox\" checked><label for=\"sk-estimator-id-4\" class=\"sk-toggleable__label sk-toggleable__label-arrow\">NearestNeighbors</label><div class=\"sk-toggleable__content\"><pre>NearestNeighbors(metric=&#x27;cosine&#x27;, n_neighbors=3)</pre></div></div></div></div></div>"
      ],
      "text/plain": [
       "NearestNeighbors(metric='cosine', n_neighbors=3)"
      ]
     },
     "execution_count": 176,
     "metadata": {},
     "output_type": "execute_result"
    }
   ],
   "source": [
    "k = 3\n",
    "\n",
    "neighbors = NearestNeighbors(n_neighbors=k , metric=\"cosine\")\n",
    "\n",
    "neighbors.fit(ratings_train)"
   ]
  },
  {
   "cell_type": "code",
   "execution_count": 177,
   "id": "712b2296",
   "metadata": {},
   "outputs": [
    {
     "data": {
      "text/plain": [
       "(660, 3)"
      ]
     },
     "execution_count": 177,
     "metadata": {},
     "output_type": "execute_result"
    }
   ],
   "source": [
    "#Buscamos el top de distancia de similaridades y de usuarios \n",
    "top_k_distances , top_k_users = neighbors.kneighbors(ratings_train , return_distance=True)\n",
    "top_k_distances.shape"
   ]
  },
  {
   "cell_type": "code",
   "execution_count": 178,
   "id": "709e7e63",
   "metadata": {},
   "outputs": [
    {
     "data": {
      "text/plain": [
       "array([0.        , 0.49780748, 0.55784838])"
      ]
     },
     "execution_count": 178,
     "metadata": {},
     "output_type": "execute_result"
    }
   ],
   "source": [
    "top_k_distances[0]"
   ]
  },
  {
   "cell_type": "code",
   "execution_count": 179,
   "id": "34a8304d",
   "metadata": {},
   "outputs": [
    {
     "data": {
      "text/plain": [
       "array([  0, 211,  16], dtype=int64)"
      ]
     },
     "execution_count": 179,
     "metadata": {},
     "output_type": "execute_result"
    }
   ],
   "source": [
    "top_k_users[0] "
   ]
  },
  {
   "cell_type": "markdown",
   "id": "323f21f7",
   "metadata": {},
   "source": [
    "* nos a devuelto el top ten de distancias entre cada usuario y su top ten respectivo,"
   ]
  },
  {
   "cell_type": "code",
   "execution_count": 180,
   "id": "966e8c43",
   "metadata": {},
   "outputs": [],
   "source": [
    "        #Prediccion de los \"K\" usuarios\n",
    "users_predicts_k = np.zeros(ratings_train.shape)\n",
    "for i in range ( ratings_train.shape[0]): #para cada usuario del conjunto de entrenamiento\n",
    "    users_predicts_k[i,:] = top_k_distances[i].T.dot(ratings_train[top_k_users][i]) /np.array([np.abs(top_k_distances[i].T).sum(axis=0)]).T"
   ]
  },
  {
   "cell_type": "code",
   "execution_count": 181,
   "id": "9a870b56",
   "metadata": {},
   "outputs": [
    {
     "data": {
      "text/plain": [
       "(660, 1682)"
      ]
     },
     "execution_count": 181,
     "metadata": {},
     "output_type": "execute_result"
    }
   ],
   "source": [
    "users_predicts_k.shape #Para cada usuarios 1682 peliculas como prediccion"
   ]
  },
  {
   "cell_type": "code",
   "execution_count": 182,
   "id": "92950b07",
   "metadata": {},
   "outputs": [
    {
     "data": {
      "text/plain": [
       "array([[0.        , 0.        , 0.        , ..., 0.        , 0.        ,\n",
       "        0.        ],\n",
       "       [0.        , 0.        , 0.        , ..., 0.        , 0.        ,\n",
       "        0.        ],\n",
       "       [0.        , 0.        , 0.        , ..., 0.        , 0.        ,\n",
       "        0.        ],\n",
       "       ...,\n",
       "       [0.        , 0.        , 0.        , ..., 0.        , 0.        ,\n",
       "        0.        ],\n",
       "       [4.49730595, 3.49730595, 0.        , ..., 0.        , 0.        ,\n",
       "        0.        ],\n",
       "       [1.44978452, 0.        , 0.        , ..., 0.        , 0.        ,\n",
       "        0.        ]])"
      ]
     },
     "execution_count": 182,
     "metadata": {},
     "output_type": "execute_result"
    }
   ],
   "source": [
    "users_predicts_k"
   ]
  },
  {
   "cell_type": "code",
   "execution_count": 183,
   "id": "d8fa7220",
   "metadata": {},
   "outputs": [
    {
     "data": {
      "text/plain": [
       "4.91474054313352"
      ]
     },
     "execution_count": 183,
     "metadata": {},
     "output_type": "execute_result"
    }
   ],
   "source": [
    "get_mse(users_predicts_k , ratings_train)"
   ]
  },
  {
   "cell_type": "markdown",
   "id": "6c660082",
   "metadata": {},
   "source": [
    "* Este es el error del modelo creado recientemente (4.91%) se puede ver que bajo un poco mas el error (va mejorando el modelo)"
   ]
  },
  {
   "cell_type": "code",
   "execution_count": 184,
   "id": "365a75e0",
   "metadata": {},
   "outputs": [],
   "source": [
    "top_k_distances_test,top_k_users_test = neighbors.kneighbors(ratings_test,return_distance=True)"
   ]
  },
  {
   "cell_type": "code",
   "execution_count": 185,
   "id": "80cbd85e",
   "metadata": {},
   "outputs": [
    {
     "data": {
      "text/plain": [
       "array([317, 336,  26], dtype=int64)"
      ]
     },
     "execution_count": 185,
     "metadata": {},
     "output_type": "execute_result"
    }
   ],
   "source": [
    "top_k_users_test[0]"
   ]
  },
  {
   "cell_type": "code",
   "execution_count": 186,
   "id": "470ea23e",
   "metadata": {},
   "outputs": [],
   "source": [
    "user_predicts_k_test= np.zeros(ratings_test.shape)\n",
    "for i in range(ratings_test.shape[0]):# para cada usuario del conjunto de entrenamiento\n",
    "    user_predicts_k_test[i,:] = top_k_distances_test[i].T.dot(ratings[top_k_users_test][i])/ np.array([np.abs(top_k_distances_test[i].T).sum(axis=0)]).T"
   ]
  },
  {
   "cell_type": "code",
   "execution_count": 187,
   "id": "d515369c",
   "metadata": {},
   "outputs": [
    {
     "data": {
      "text/plain": [
       "10.148160336467035"
      ]
     },
     "execution_count": 187,
     "metadata": {},
     "output_type": "execute_result"
    }
   ],
   "source": [
    "get_mse(user_predicts_k_test,ratings_test)"
   ]
  },
  {
   "cell_type": "markdown",
   "id": "ebed7a41",
   "metadata": {},
   "source": [
    "* Aca vemos que aumento considerablement el error con el conjunto de testing a un 10.14%\n",
    "\n",
    "---\n",
    "\n",
    "# Filtro colaborativo basado en items"
   ]
  },
  {
   "cell_type": "code",
   "execution_count": 188,
   "id": "d097f2f7",
   "metadata": {},
   "outputs": [
    {
     "data": {
      "text/plain": [
       "1682"
      ]
     },
     "execution_count": 188,
     "metadata": {},
     "output_type": "execute_result"
    }
   ],
   "source": [
    "n_movies = ratings_train.shape[1]\n",
    "n_movies"
   ]
  },
  {
   "cell_type": "code",
   "execution_count": 189,
   "id": "9173f1a3",
   "metadata": {
    "scrolled": true
   },
   "outputs": [],
   "source": [
    "neighbors = NearestNeighbors(n_neighbors=1682 ,radius=\"cosine\")"
   ]
  },
  {
   "cell_type": "code",
   "execution_count": 190,
   "id": "c987c4e5",
   "metadata": {},
   "outputs": [
    {
     "data": {
      "text/html": [
       "<style>#sk-container-id-5 {color: black;background-color: white;}#sk-container-id-5 pre{padding: 0;}#sk-container-id-5 div.sk-toggleable {background-color: white;}#sk-container-id-5 label.sk-toggleable__label {cursor: pointer;display: block;width: 100%;margin-bottom: 0;padding: 0.3em;box-sizing: border-box;text-align: center;}#sk-container-id-5 label.sk-toggleable__label-arrow:before {content: \"▸\";float: left;margin-right: 0.25em;color: #696969;}#sk-container-id-5 label.sk-toggleable__label-arrow:hover:before {color: black;}#sk-container-id-5 div.sk-estimator:hover label.sk-toggleable__label-arrow:before {color: black;}#sk-container-id-5 div.sk-toggleable__content {max-height: 0;max-width: 0;overflow: hidden;text-align: left;background-color: #f0f8ff;}#sk-container-id-5 div.sk-toggleable__content pre {margin: 0.2em;color: black;border-radius: 0.25em;background-color: #f0f8ff;}#sk-container-id-5 input.sk-toggleable__control:checked~div.sk-toggleable__content {max-height: 200px;max-width: 100%;overflow: auto;}#sk-container-id-5 input.sk-toggleable__control:checked~label.sk-toggleable__label-arrow:before {content: \"▾\";}#sk-container-id-5 div.sk-estimator input.sk-toggleable__control:checked~label.sk-toggleable__label {background-color: #d4ebff;}#sk-container-id-5 div.sk-label input.sk-toggleable__control:checked~label.sk-toggleable__label {background-color: #d4ebff;}#sk-container-id-5 input.sk-hidden--visually {border: 0;clip: rect(1px 1px 1px 1px);clip: rect(1px, 1px, 1px, 1px);height: 1px;margin: -1px;overflow: hidden;padding: 0;position: absolute;width: 1px;}#sk-container-id-5 div.sk-estimator {font-family: monospace;background-color: #f0f8ff;border: 1px dotted black;border-radius: 0.25em;box-sizing: border-box;margin-bottom: 0.5em;}#sk-container-id-5 div.sk-estimator:hover {background-color: #d4ebff;}#sk-container-id-5 div.sk-parallel-item::after {content: \"\";width: 100%;border-bottom: 1px solid gray;flex-grow: 1;}#sk-container-id-5 div.sk-label:hover label.sk-toggleable__label {background-color: #d4ebff;}#sk-container-id-5 div.sk-serial::before {content: \"\";position: absolute;border-left: 1px solid gray;box-sizing: border-box;top: 0;bottom: 0;left: 50%;z-index: 0;}#sk-container-id-5 div.sk-serial {display: flex;flex-direction: column;align-items: center;background-color: white;padding-right: 0.2em;padding-left: 0.2em;position: relative;}#sk-container-id-5 div.sk-item {position: relative;z-index: 1;}#sk-container-id-5 div.sk-parallel {display: flex;align-items: stretch;justify-content: center;background-color: white;position: relative;}#sk-container-id-5 div.sk-item::before, #sk-container-id-5 div.sk-parallel-item::before {content: \"\";position: absolute;border-left: 1px solid gray;box-sizing: border-box;top: 0;bottom: 0;left: 50%;z-index: -1;}#sk-container-id-5 div.sk-parallel-item {display: flex;flex-direction: column;z-index: 1;position: relative;background-color: white;}#sk-container-id-5 div.sk-parallel-item:first-child::after {align-self: flex-end;width: 50%;}#sk-container-id-5 div.sk-parallel-item:last-child::after {align-self: flex-start;width: 50%;}#sk-container-id-5 div.sk-parallel-item:only-child::after {width: 0;}#sk-container-id-5 div.sk-dashed-wrapped {border: 1px dashed gray;margin: 0 0.4em 0.5em 0.4em;box-sizing: border-box;padding-bottom: 0.4em;background-color: white;}#sk-container-id-5 div.sk-label label {font-family: monospace;font-weight: bold;display: inline-block;line-height: 1.2em;}#sk-container-id-5 div.sk-label-container {text-align: center;}#sk-container-id-5 div.sk-container {/* jupyter's `normalize.less` sets `[hidden] { display: none; }` but bootstrap.min.css set `[hidden] { display: none !important; }` so we also need the `!important` here to be able to override the default hidden behavior on the sphinx rendered scikit-learn.org. See: https://github.com/scikit-learn/scikit-learn/issues/21755 */display: inline-block !important;position: relative;}#sk-container-id-5 div.sk-text-repr-fallback {display: none;}</style><div id=\"sk-container-id-5\" class=\"sk-top-container\"><div class=\"sk-text-repr-fallback\"><pre>NearestNeighbors(n_neighbors=1682, radius=&#x27;cosine&#x27;)</pre><b>In a Jupyter environment, please rerun this cell to show the HTML representation or trust the notebook. <br />On GitHub, the HTML representation is unable to render, please try loading this page with nbviewer.org.</b></div><div class=\"sk-container\" hidden><div class=\"sk-item\"><div class=\"sk-estimator sk-toggleable\"><input class=\"sk-toggleable__control sk-hidden--visually\" id=\"sk-estimator-id-5\" type=\"checkbox\" checked><label for=\"sk-estimator-id-5\" class=\"sk-toggleable__label sk-toggleable__label-arrow\">NearestNeighbors</label><div class=\"sk-toggleable__content\"><pre>NearestNeighbors(n_neighbors=1682, radius=&#x27;cosine&#x27;)</pre></div></div></div></div></div>"
      ],
      "text/plain": [
       "NearestNeighbors(n_neighbors=1682, radius='cosine')"
      ]
     },
     "execution_count": 190,
     "metadata": {},
     "output_type": "execute_result"
    }
   ],
   "source": [
    "neighbors.fit(ratings_train.T)"
   ]
  },
  {
   "cell_type": "code",
   "execution_count": 191,
   "id": "9fe5fa18",
   "metadata": {},
   "outputs": [],
   "source": [
    "#ahora calcularemos la matriz de similaridades basandonos en el coseno y los KNN, como hicimos anteriormente \n",
    "top_k_distances , top_k_items = neighbors.kneighbors(ratings_train.T,return_distance=True) "
   ]
  },
  {
   "cell_type": "code",
   "execution_count": 192,
   "id": "ae86dfab",
   "metadata": {},
   "outputs": [
    {
     "data": {
      "text/plain": [
       "(1682, 1682)"
      ]
     },
     "execution_count": 192,
     "metadata": {},
     "output_type": "execute_result"
    }
   ],
   "source": [
    "top_k_distances.shape"
   ]
  },
  {
   "cell_type": "code",
   "execution_count": 193,
   "id": "0b92c46e",
   "metadata": {},
   "outputs": [
    {
     "data": {
      "text/plain": [
       "array([[   0,  120,  404, ...,  285,  312,  301],\n",
       "       [   1,  575,  232, ...,  257,   99,   49],\n",
       "       [   2,  742, 1094, ...,  180,   99,   49],\n",
       "       ...,\n",
       "       [1679, 1581, 1579, ...,  180,   99,   49],\n",
       "       [1680, 1671, 1679, ...,  180,   99,   49],\n",
       "       [1681, 1596, 1679, ...,  180,   99,   49]], dtype=int64)"
      ]
     },
     "execution_count": 193,
     "metadata": {},
     "output_type": "execute_result"
    }
   ],
   "source": [
    "top_k_items"
   ]
  },
  {
   "cell_type": "code",
   "execution_count": 194,
   "id": "69183802",
   "metadata": {},
   "outputs": [],
   "source": [
    "#ahora predeciremos la valoracion de las peliculas, como hicimos anteriormente\n",
    "item_preds = ratings_train.dot(top_k_distances) / np.array([np.abs(top_k_distances).sum(axis=1)])"
   ]
  },
  {
   "cell_type": "code",
   "execution_count": 195,
   "id": "89b9ad1b",
   "metadata": {},
   "outputs": [
    {
     "data": {
      "text/plain": [
       "(660, 1682)"
      ]
     },
     "execution_count": 195,
     "metadata": {},
     "output_type": "execute_result"
    }
   ],
   "source": [
    "item_preds.shape"
   ]
  },
  {
   "cell_type": "code",
   "execution_count": 196,
   "id": "fca846d3",
   "metadata": {},
   "outputs": [
    {
     "data": {
      "text/plain": [
       "array([[0.        , 0.31842643, 0.37009323, ..., 1.44850442, 1.4566397 ,\n",
       "        1.54530823],\n",
       "       [0.        , 0.0545379 , 0.06227954, ..., 0.20078701, 0.20112087,\n",
       "        0.21332472],\n",
       "       [0.        , 0.03522479, 0.04073126, ..., 0.18456903, 0.18654661,\n",
       "        0.20076303],\n",
       "       ...,\n",
       "       [0.        , 0.08968346, 0.10313623, ..., 0.42050197, 0.4196067 ,\n",
       "        0.45863507],\n",
       "       [0.        , 0.25835756, 0.29918119, ..., 1.31043371, 1.32278067,\n",
       "        1.41390683],\n",
       "       [0.        , 0.07174777, 0.08538024, ..., 0.25535196, 0.25259645,\n",
       "        0.26199652]])"
      ]
     },
     "execution_count": 196,
     "metadata": {},
     "output_type": "execute_result"
    }
   ],
   "source": [
    "item_preds"
   ]
  },
  {
   "cell_type": "code",
   "execution_count": 197,
   "id": "850c2b6d",
   "metadata": {},
   "outputs": [
    {
     "data": {
      "text/plain": [
       "11.172565375125632"
      ]
     },
     "execution_count": 197,
     "metadata": {},
     "output_type": "execute_result"
    }
   ],
   "source": [
    "get_mse(item_preds, ratings_train)"
   ]
  },
  {
   "cell_type": "code",
   "execution_count": 210,
   "id": "ca719c7e",
   "metadata": {},
   "outputs": [
    {
     "data": {
      "text/html": [
       "<div>\n",
       "<style scoped>\n",
       "    .dataframe tbody tr th:only-of-type {\n",
       "        vertical-align: middle;\n",
       "    }\n",
       "\n",
       "    .dataframe tbody tr th {\n",
       "        vertical-align: top;\n",
       "    }\n",
       "\n",
       "    .dataframe thead th {\n",
       "        text-align: right;\n",
       "    }\n",
       "</style>\n",
       "<table border=\"1\" class=\"dataframe\">\n",
       "  <thead>\n",
       "    <tr style=\"text-align: right;\">\n",
       "      <th></th>\n",
       "      <th>0</th>\n",
       "      <th>1</th>\n",
       "      <th>2</th>\n",
       "      <th>3</th>\n",
       "      <th>4</th>\n",
       "      <th>5</th>\n",
       "      <th>6</th>\n",
       "      <th>7</th>\n",
       "      <th>8</th>\n",
       "      <th>9</th>\n",
       "      <th>...</th>\n",
       "      <th>14</th>\n",
       "      <th>15</th>\n",
       "      <th>16</th>\n",
       "      <th>17</th>\n",
       "      <th>18</th>\n",
       "      <th>19</th>\n",
       "      <th>20</th>\n",
       "      <th>21</th>\n",
       "      <th>22</th>\n",
       "      <th>23</th>\n",
       "    </tr>\n",
       "  </thead>\n",
       "  <tbody>\n",
       "    <tr>\n",
       "      <th>0</th>\n",
       "      <td>1</td>\n",
       "      <td>Toy Story (1995)</td>\n",
       "      <td>01-Jan-1995</td>\n",
       "      <td>NaN</td>\n",
       "      <td>http://us.imdb.com/M/title-exact?Toy%20Story%2...</td>\n",
       "      <td>0</td>\n",
       "      <td>0</td>\n",
       "      <td>0</td>\n",
       "      <td>1</td>\n",
       "      <td>1</td>\n",
       "      <td>...</td>\n",
       "      <td>0</td>\n",
       "      <td>0</td>\n",
       "      <td>0</td>\n",
       "      <td>0</td>\n",
       "      <td>0</td>\n",
       "      <td>0</td>\n",
       "      <td>0</td>\n",
       "      <td>0</td>\n",
       "      <td>0</td>\n",
       "      <td>0</td>\n",
       "    </tr>\n",
       "    <tr>\n",
       "      <th>1</th>\n",
       "      <td>2</td>\n",
       "      <td>GoldenEye (1995)</td>\n",
       "      <td>01-Jan-1995</td>\n",
       "      <td>NaN</td>\n",
       "      <td>http://us.imdb.com/M/title-exact?GoldenEye%20(...</td>\n",
       "      <td>0</td>\n",
       "      <td>1</td>\n",
       "      <td>1</td>\n",
       "      <td>0</td>\n",
       "      <td>0</td>\n",
       "      <td>...</td>\n",
       "      <td>0</td>\n",
       "      <td>0</td>\n",
       "      <td>0</td>\n",
       "      <td>0</td>\n",
       "      <td>0</td>\n",
       "      <td>0</td>\n",
       "      <td>0</td>\n",
       "      <td>1</td>\n",
       "      <td>0</td>\n",
       "      <td>0</td>\n",
       "    </tr>\n",
       "    <tr>\n",
       "      <th>2</th>\n",
       "      <td>3</td>\n",
       "      <td>Four Rooms (1995)</td>\n",
       "      <td>01-Jan-1995</td>\n",
       "      <td>NaN</td>\n",
       "      <td>http://us.imdb.com/M/title-exact?Four%20Rooms%...</td>\n",
       "      <td>0</td>\n",
       "      <td>0</td>\n",
       "      <td>0</td>\n",
       "      <td>0</td>\n",
       "      <td>0</td>\n",
       "      <td>...</td>\n",
       "      <td>0</td>\n",
       "      <td>0</td>\n",
       "      <td>0</td>\n",
       "      <td>0</td>\n",
       "      <td>0</td>\n",
       "      <td>0</td>\n",
       "      <td>0</td>\n",
       "      <td>1</td>\n",
       "      <td>0</td>\n",
       "      <td>0</td>\n",
       "    </tr>\n",
       "    <tr>\n",
       "      <th>3</th>\n",
       "      <td>4</td>\n",
       "      <td>Get Shorty (1995)</td>\n",
       "      <td>01-Jan-1995</td>\n",
       "      <td>NaN</td>\n",
       "      <td>http://us.imdb.com/M/title-exact?Get%20Shorty%...</td>\n",
       "      <td>0</td>\n",
       "      <td>1</td>\n",
       "      <td>0</td>\n",
       "      <td>0</td>\n",
       "      <td>0</td>\n",
       "      <td>...</td>\n",
       "      <td>0</td>\n",
       "      <td>0</td>\n",
       "      <td>0</td>\n",
       "      <td>0</td>\n",
       "      <td>0</td>\n",
       "      <td>0</td>\n",
       "      <td>0</td>\n",
       "      <td>0</td>\n",
       "      <td>0</td>\n",
       "      <td>0</td>\n",
       "    </tr>\n",
       "    <tr>\n",
       "      <th>4</th>\n",
       "      <td>5</td>\n",
       "      <td>Copycat (1995)</td>\n",
       "      <td>01-Jan-1995</td>\n",
       "      <td>NaN</td>\n",
       "      <td>http://us.imdb.com/M/title-exact?Copycat%20(1995)</td>\n",
       "      <td>0</td>\n",
       "      <td>0</td>\n",
       "      <td>0</td>\n",
       "      <td>0</td>\n",
       "      <td>0</td>\n",
       "      <td>...</td>\n",
       "      <td>0</td>\n",
       "      <td>0</td>\n",
       "      <td>0</td>\n",
       "      <td>0</td>\n",
       "      <td>0</td>\n",
       "      <td>0</td>\n",
       "      <td>0</td>\n",
       "      <td>1</td>\n",
       "      <td>0</td>\n",
       "      <td>0</td>\n",
       "    </tr>\n",
       "    <tr>\n",
       "      <th>...</th>\n",
       "      <td>...</td>\n",
       "      <td>...</td>\n",
       "      <td>...</td>\n",
       "      <td>...</td>\n",
       "      <td>...</td>\n",
       "      <td>...</td>\n",
       "      <td>...</td>\n",
       "      <td>...</td>\n",
       "      <td>...</td>\n",
       "      <td>...</td>\n",
       "      <td>...</td>\n",
       "      <td>...</td>\n",
       "      <td>...</td>\n",
       "      <td>...</td>\n",
       "      <td>...</td>\n",
       "      <td>...</td>\n",
       "      <td>...</td>\n",
       "      <td>...</td>\n",
       "      <td>...</td>\n",
       "      <td>...</td>\n",
       "      <td>...</td>\n",
       "    </tr>\n",
       "    <tr>\n",
       "      <th>116</th>\n",
       "      <td>117</td>\n",
       "      <td>Rock, The (1996)</td>\n",
       "      <td>07-Jun-1996</td>\n",
       "      <td>NaN</td>\n",
       "      <td>http://us.imdb.com/M/title-exact?Rock,%20The%2...</td>\n",
       "      <td>0</td>\n",
       "      <td>1</td>\n",
       "      <td>1</td>\n",
       "      <td>0</td>\n",
       "      <td>0</td>\n",
       "      <td>...</td>\n",
       "      <td>0</td>\n",
       "      <td>0</td>\n",
       "      <td>0</td>\n",
       "      <td>0</td>\n",
       "      <td>0</td>\n",
       "      <td>0</td>\n",
       "      <td>0</td>\n",
       "      <td>1</td>\n",
       "      <td>0</td>\n",
       "      <td>0</td>\n",
       "    </tr>\n",
       "    <tr>\n",
       "      <th>117</th>\n",
       "      <td>118</td>\n",
       "      <td>Twister (1996)</td>\n",
       "      <td>10-May-1996</td>\n",
       "      <td>NaN</td>\n",
       "      <td>http://us.imdb.com/M/title-exact?Twister%20(1996)</td>\n",
       "      <td>0</td>\n",
       "      <td>1</td>\n",
       "      <td>1</td>\n",
       "      <td>0</td>\n",
       "      <td>0</td>\n",
       "      <td>...</td>\n",
       "      <td>0</td>\n",
       "      <td>0</td>\n",
       "      <td>0</td>\n",
       "      <td>0</td>\n",
       "      <td>0</td>\n",
       "      <td>0</td>\n",
       "      <td>0</td>\n",
       "      <td>1</td>\n",
       "      <td>0</td>\n",
       "      <td>0</td>\n",
       "    </tr>\n",
       "    <tr>\n",
       "      <th>118</th>\n",
       "      <td>119</td>\n",
       "      <td>Maya Lin: A Strong Clear Vision (1994)</td>\n",
       "      <td>01-Jan-1994</td>\n",
       "      <td>NaN</td>\n",
       "      <td>http://us.imdb.com/M/title-exact?Maya%20Lin:%2...</td>\n",
       "      <td>0</td>\n",
       "      <td>0</td>\n",
       "      <td>0</td>\n",
       "      <td>0</td>\n",
       "      <td>0</td>\n",
       "      <td>...</td>\n",
       "      <td>0</td>\n",
       "      <td>0</td>\n",
       "      <td>0</td>\n",
       "      <td>0</td>\n",
       "      <td>0</td>\n",
       "      <td>0</td>\n",
       "      <td>0</td>\n",
       "      <td>0</td>\n",
       "      <td>0</td>\n",
       "      <td>0</td>\n",
       "    </tr>\n",
       "    <tr>\n",
       "      <th>119</th>\n",
       "      <td>120</td>\n",
       "      <td>Striptease (1996)</td>\n",
       "      <td>28-Jun-1996</td>\n",
       "      <td>NaN</td>\n",
       "      <td>http://us.imdb.com/M/title-exact?Striptease%20...</td>\n",
       "      <td>0</td>\n",
       "      <td>0</td>\n",
       "      <td>0</td>\n",
       "      <td>0</td>\n",
       "      <td>0</td>\n",
       "      <td>...</td>\n",
       "      <td>0</td>\n",
       "      <td>0</td>\n",
       "      <td>0</td>\n",
       "      <td>0</td>\n",
       "      <td>0</td>\n",
       "      <td>0</td>\n",
       "      <td>0</td>\n",
       "      <td>0</td>\n",
       "      <td>0</td>\n",
       "      <td>0</td>\n",
       "    </tr>\n",
       "    <tr>\n",
       "      <th>120</th>\n",
       "      <td>121</td>\n",
       "      <td>Independence Day (ID4) (1996)</td>\n",
       "      <td>03-Jul-1996</td>\n",
       "      <td>NaN</td>\n",
       "      <td>http://us.imdb.com/M/title-exact?Independence%...</td>\n",
       "      <td>0</td>\n",
       "      <td>1</td>\n",
       "      <td>0</td>\n",
       "      <td>0</td>\n",
       "      <td>0</td>\n",
       "      <td>...</td>\n",
       "      <td>0</td>\n",
       "      <td>0</td>\n",
       "      <td>0</td>\n",
       "      <td>0</td>\n",
       "      <td>0</td>\n",
       "      <td>0</td>\n",
       "      <td>1</td>\n",
       "      <td>0</td>\n",
       "      <td>1</td>\n",
       "      <td>0</td>\n",
       "    </tr>\n",
       "  </tbody>\n",
       "</table>\n",
       "<p>121 rows × 24 columns</p>\n",
       "</div>"
      ],
      "text/plain": [
       "      0                                       1            2   3   \\\n",
       "0      1                        Toy Story (1995)  01-Jan-1995 NaN   \n",
       "1      2                        GoldenEye (1995)  01-Jan-1995 NaN   \n",
       "2      3                       Four Rooms (1995)  01-Jan-1995 NaN   \n",
       "3      4                       Get Shorty (1995)  01-Jan-1995 NaN   \n",
       "4      5                          Copycat (1995)  01-Jan-1995 NaN   \n",
       "..   ...                                     ...          ...  ..   \n",
       "116  117                        Rock, The (1996)  07-Jun-1996 NaN   \n",
       "117  118                          Twister (1996)  10-May-1996 NaN   \n",
       "118  119  Maya Lin: A Strong Clear Vision (1994)  01-Jan-1994 NaN   \n",
       "119  120                       Striptease (1996)  28-Jun-1996 NaN   \n",
       "120  121           Independence Day (ID4) (1996)  03-Jul-1996 NaN   \n",
       "\n",
       "                                                    4   5   6   7   8   9   \\\n",
       "0    http://us.imdb.com/M/title-exact?Toy%20Story%2...   0   0   0   1   1   \n",
       "1    http://us.imdb.com/M/title-exact?GoldenEye%20(...   0   1   1   0   0   \n",
       "2    http://us.imdb.com/M/title-exact?Four%20Rooms%...   0   0   0   0   0   \n",
       "3    http://us.imdb.com/M/title-exact?Get%20Shorty%...   0   1   0   0   0   \n",
       "4    http://us.imdb.com/M/title-exact?Copycat%20(1995)   0   0   0   0   0   \n",
       "..                                                 ...  ..  ..  ..  ..  ..   \n",
       "116  http://us.imdb.com/M/title-exact?Rock,%20The%2...   0   1   1   0   0   \n",
       "117  http://us.imdb.com/M/title-exact?Twister%20(1996)   0   1   1   0   0   \n",
       "118  http://us.imdb.com/M/title-exact?Maya%20Lin:%2...   0   0   0   0   0   \n",
       "119  http://us.imdb.com/M/title-exact?Striptease%20...   0   0   0   0   0   \n",
       "120  http://us.imdb.com/M/title-exact?Independence%...   0   1   0   0   0   \n",
       "\n",
       "     ...  14  15  16  17  18  19  20  21  22  23  \n",
       "0    ...   0   0   0   0   0   0   0   0   0   0  \n",
       "1    ...   0   0   0   0   0   0   0   1   0   0  \n",
       "2    ...   0   0   0   0   0   0   0   1   0   0  \n",
       "3    ...   0   0   0   0   0   0   0   0   0   0  \n",
       "4    ...   0   0   0   0   0   0   0   1   0   0  \n",
       "..   ...  ..  ..  ..  ..  ..  ..  ..  ..  ..  ..  \n",
       "116  ...   0   0   0   0   0   0   0   1   0   0  \n",
       "117  ...   0   0   0   0   0   0   0   1   0   0  \n",
       "118  ...   0   0   0   0   0   0   0   0   0   0  \n",
       "119  ...   0   0   0   0   0   0   0   0   0   0  \n",
       "120  ...   0   0   0   0   0   0   1   0   1   0  \n",
       "\n",
       "[121 rows x 24 columns]"
      ]
     },
     "execution_count": 210,
     "metadata": {},
     "output_type": "execute_result"
    }
   ],
   "source": [
    "movies_df = pd.read_csv(\"/Users/Acer/Desktop/Cursos-Udemy-Machine-Learning/python-ml-course-master/datasets/ml-100k/u.item.csv\" , sep=\"|\", header=None, encoding='latin-1')\n",
    "movies_df.head(121)"
   ]
  },
  {
   "cell_type": "code",
   "execution_count": 209,
   "id": "c8a8c67f",
   "metadata": {},
   "outputs": [
    {
     "data": {
      "text/plain": [
       "array([[   0,  120,  404, ...,  285,  312,  301],\n",
       "       [   1,  575,  232, ...,  257,   99,   49],\n",
       "       [   2,  742, 1094, ...,  180,   99,   49],\n",
       "       ...,\n",
       "       [1679, 1581, 1579, ...,  180,   99,   49],\n",
       "       [1680, 1671, 1679, ...,  180,   99,   49],\n",
       "       [1681, 1596, 1679, ...,  180,   99,   49]], dtype=int64)"
      ]
     },
     "execution_count": 209,
     "metadata": {},
     "output_type": "execute_result"
    }
   ],
   "source": [
    "top_k_items"
   ]
  },
  {
   "cell_type": "markdown",
   "id": "029204ac",
   "metadata": {},
   "source": [
    "* Como podemos ver vemos que la pelicula **0(toy story)** fue comparada con la **120(Dia de la independencia) y 404(Mision imposible)**\n",
    "    * podemos ver que la trama u genero de dichas peliculas no tienen mucho de igual,pero si por ejemplo son de la misma fechas, lo que podemos decir es que los usuarios son coetaneo u nacidos en años similares, por eso eligen pelis del mismo año\n",
    "    * lo que podemos tmb ver en otro vistazo rapido es que la pelicula **99(fargo) y 49(star wars) no la recomiendan mucho\n",
    "    \n",
    "    \n",
    "* **Esto es un sistema o predictor basado en recomendaciones por similaridades entre los usuarios(que contienen una valoracion similar o uniforme por parte de los usuarios) y a partir de eso hemos establecido un sistema de recomendaciones basandonos en ponderar todas y cada una de las distancias establecidas por los valores que dieron dichos usuarios a las peliculas.**"
   ]
  },
  {
   "cell_type": "code",
   "execution_count": 218,
   "id": "3af870b2",
   "metadata": {},
   "outputs": [
    {
     "data": {
      "text/plain": [
       "array([ 0.        , 53.12249994, 54.38749856, 55.50675635, 56.49778757,\n",
       "       56.9473441 , 57.21013896, 57.81003373, 58.10335619, 58.16356248])"
      ]
     },
     "execution_count": 218,
     "metadata": {},
     "output_type": "execute_result"
    }
   ],
   "source": [
    "\n",
    "neighbors = NearestNeighbors(n_neighbors=10 , radius=\"cosine\")\n",
    "\n",
    "neighbors.fit(ratings_train.T)\n",
    "\n",
    "top_k_distances , top_k_items = neighbors.kneighbors(ratings_train.T , return_distance=True) \n",
    "\n",
    "top_k_distances[0]"
   ]
  },
  {
   "cell_type": "markdown",
   "id": "e623a0d1",
   "metadata": {},
   "source": [
    "vemos que la distancia es entre 53.12  y 68.16"
   ]
  },
  {
   "cell_type": "code",
   "execution_count": 220,
   "id": "502c5e9a",
   "metadata": {},
   "outputs": [
    {
     "data": {
      "text/plain": [
       "array([  0, 120, 404, 116, 221, 150, 117, 180,   6, 741], dtype=int64)"
      ]
     },
     "execution_count": 220,
     "metadata": {},
     "output_type": "execute_result"
    }
   ],
   "source": [
    "top_k_items[0] "
   ]
  },
  {
   "cell_type": "markdown",
   "id": "10324425",
   "metadata": {},
   "source": [
    "* estas son las 10 peliculas mas parecida a la **0 (toy story)** en forma decreciente"
   ]
  },
  {
   "cell_type": "code",
   "execution_count": 221,
   "id": "ca4482df",
   "metadata": {},
   "outputs": [
    {
     "name": "stdout",
     "output_type": "stream",
     "text": [
      "iter0\n",
      "iter50\n",
      "iter100\n",
      "iter150\n",
      "iter200\n",
      "iter250\n",
      "iter300\n",
      "iter350\n",
      "iter400\n",
      "iter450\n",
      "iter500\n",
      "iter550\n",
      "iter600\n",
      "iter650\n",
      "iter700\n",
      "iter750\n",
      "iter800\n",
      "iter850\n",
      "iter900\n",
      "iter950\n",
      "iter1000\n",
      "iter1050\n",
      "iter1100\n"
     ]
    },
    {
     "name": "stderr",
     "output_type": "stream",
     "text": [
      "C:\\Users\\Acer\\AppData\\Local\\Temp\\ipykernel_15556\\1182874128.py:7: RuntimeWarning: invalid value encountered in true_divide\n",
      "  preds[i, :] = top_k_distances[i].dot(ratings_train.T[top_k_items][i])/np.array([np.abs(top_k_distances[i]).sum(axis=0)]).T\n"
     ]
    },
    {
     "name": "stdout",
     "output_type": "stream",
     "text": [
      "iter1150\n",
      "iter1200\n",
      "iter1250\n",
      "iter1300\n",
      "iter1350\n",
      "iter1400\n",
      "iter1450\n",
      "iter1500\n",
      "iter1550\n",
      "iter1600\n",
      "iter1650\n"
     ]
    }
   ],
   "source": [
    "#Una prediccion basandonos en este top_k de similaridades\n",
    "\n",
    "preds = np.zeros(ratings_train.T.shape) #Creamos una matriz llenas ceros\n",
    "\n",
    "for i in range (ratings_train.T.shape[0]):\n",
    "    if(i%50==0):\n",
    "        print(\"iter\"+str(i)) #Aqui ponemos que cada 50 itaraciones nos iprima\n",
    "    den = 1 \n",
    "    preds[i, :] = top_k_distances[i].dot(ratings_train.T[top_k_items][i])/np.array([np.abs(top_k_distances[i]).sum(axis=0)]).T"
   ]
  },
  {
   "cell_type": "code",
   "execution_count": 268,
   "id": "3215fc78",
   "metadata": {},
   "outputs": [],
   "source": [
    "\n",
    "\n",
    "from sklearn.metrics import mean_squared_error\n",
    "\n",
    "def get_mse(preds, actuals):\n",
    "    if preds.shape[0] != actuals.shape[0]: #Si las predicciones en la 0 no coinciden con las actuales TRANSPONEMOS\n",
    "        actuals = actuals.T\n",
    "    preds = preds[actuals.nonzero()].flatten()\n",
    "    actuals = actuals[actuals.nonzero()].flatten()\n",
    "    return mean_squared_error(preds, actuals)"
   ]
  },
  {
   "cell_type": "code",
   "execution_count": 270,
   "id": "3d11125f",
   "metadata": {},
   "outputs": [
    {
     "data": {
      "text/plain": [
       "array([[ True,  True,  True, ...,  True,  True,  True],\n",
       "       [ True,  True,  True, ...,  True,  True,  True],\n",
       "       [ True,  True,  True, ...,  True,  True,  True],\n",
       "       ...,\n",
       "       [ True,  True,  True, ...,  True,  True,  True],\n",
       "       [ True,  True,  True, ...,  True,  True,  True],\n",
       "       [ True,  True,  True, ...,  True,  True,  True]])"
      ]
     },
     "execution_count": 270,
     "metadata": {},
     "output_type": "execute_result"
    }
   ],
   "source": [
    "preds = np.isfinite(preds)\n",
    "preds"
   ]
  },
  {
   "cell_type": "code",
   "execution_count": 264,
   "id": "52ad7cf7",
   "metadata": {},
   "outputs": [
    {
     "name": "stdout",
     "output_type": "stream",
     "text": [
      "(660, 1682) (283, 1682) (1682, 660)\n"
     ]
    }
   ],
   "source": [
    "print(ratings_train.shape, ratings_test.shape, preds.shape)"
   ]
  },
  {
   "cell_type": "code",
   "execution_count": 265,
   "id": "61e025b6",
   "metadata": {},
   "outputs": [
    {
     "data": {
      "text/plain": [
       "7.72753714555901"
      ]
     },
     "execution_count": 265,
     "metadata": {},
     "output_type": "execute_result"
    }
   ],
   "source": [
    "get_mse(preds,ratings_train.T)"
   ]
  },
  {
   "cell_type": "markdown",
   "id": "b5dfe541",
   "metadata": {},
   "source": [
    "* Podemos ver que el error de este modelo predictivo con los datos de entrenamiento es de 7.72 %"
   ]
  },
  {
   "cell_type": "code",
   "execution_count": 266,
   "id": "578fb820",
   "metadata": {},
   "outputs": [
    {
     "data": {
      "text/plain": [
       "7.528188830403549"
      ]
     },
     "execution_count": 266,
     "metadata": {},
     "output_type": "execute_result"
    }
   ],
   "source": [
    "get_mse(preds, ratings_test.T)"
   ]
  },
  {
   "cell_type": "markdown",
   "id": "ae2af049",
   "metadata": {},
   "source": [
    "* el error con los datos de testeo es de 7.52% casi el mismo error "
   ]
  },
  {
   "cell_type": "code",
   "execution_count": null,
   "id": "c0d6945d",
   "metadata": {},
   "outputs": [],
   "source": []
  }
 ],
 "metadata": {
  "kernelspec": {
   "display_name": "Python 3 (ipykernel)",
   "language": "python",
   "name": "python3"
  },
  "language_info": {
   "codemirror_mode": {
    "name": "ipython",
    "version": 3
   },
   "file_extension": ".py",
   "mimetype": "text/x-python",
   "name": "python",
   "nbconvert_exporter": "python",
   "pygments_lexer": "ipython3",
   "version": "3.8.13"
  }
 },
 "nbformat": 4,
 "nbformat_minor": 5
}
